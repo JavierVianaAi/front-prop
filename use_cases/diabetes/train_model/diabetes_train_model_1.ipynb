{
  "cells": [
    {
      "cell_type": "markdown",
      "metadata": {
        "id": "99_WfvEVd4uW"
      },
      "source": [
        "# Training of a Feed Forward Neural Network for Classification with Pytorch:\n",
        "\n",
        "Data obtained from National Institute of Diabetes and Digestive and Kidney Diseases pima indians dataset\n",
        "\n",
        "FILES REQUIRED: Upload the pima-indians-diabetes.csv file to the directory.\n",
        "\n",
        "FILES GENERATED: The .pt (model), and a .csv file with input data for a request to submit through the API."
      ]
    },
    {
      "cell_type": "code",
      "execution_count": 3,
      "metadata": {
        "id": "mEFDq7FbdlD-"
      },
      "outputs": [],
      "source": [
        "import torch\n",
        "import torch.nn as nn\n",
        "import torch.optim as optim\n",
        "\n",
        "import numpy as np\n",
        "import pandas as pd\n",
        "import matplotlib.pyplot as plt\n",
        "import seaborn as sn\n",
        "import pickle\n",
        "\n",
        "from sklearn.metrics import mean_squared_error, confusion_matrix, r2_score, accuracy_score, mean_absolute_error\n",
        "from sklearn.preprocessing import StandardScaler, MinMaxScaler\n",
        "from sklearn.model_selection import  train_test_split"
      ]
    },
    {
      "cell_type": "code",
      "execution_count": 4,
      "metadata": {
        "colab": {
          "base_uri": "https://localhost:8080/"
        },
        "id": "tCe147pFd9RQ",
        "outputId": "14fb50f5-40fd-4376-f62c-2b2548e7877c"
      },
      "outputs": [
        {
          "output_type": "stream",
          "name": "stdout",
          "text": [
            "(768, 8) (768,)\n"
          ]
        }
      ],
      "source": [
        "# Load the dataset, split into input (X) and output (y) variables\n",
        "dataset = np.loadtxt('pima-indians-diabetes.csv', delimiter=',')\n",
        "X = dataset[:,0:8]\n",
        "y = dataset[:,8]\n",
        "\n",
        "print(X.shape, y.shape)"
      ]
    },
    {
      "cell_type": "code",
      "source": [
        "# Balancing the data:\n",
        "\n",
        "# We only have two categories:\n",
        "filter_y_0 = y == 0.0\n",
        "filter_y_1 = y == 1.0\n",
        "\n",
        "y_class_0 = y[filter_y_0]\n",
        "y_class_1 = y[filter_y_1]\n",
        "\n",
        "X_class_0 = X[filter_y_0,:]\n",
        "X_class_1 = X[filter_y_1,:]\n",
        "\n",
        "# Get the number of instances of the smallest category:\n",
        "min_cat = np.min( [len(y_class_0), len(y_class_1)] )\n",
        "\n",
        "# Balancing:\n",
        "bal_y = np.concatenate( (y_class_0[:min_cat], y_class_1[:min_cat]), axis=0 )\n",
        "bal_X = np.concatenate( (X_class_0[:min_cat,:], X_class_1[:min_cat,:]), axis=0)"
      ],
      "metadata": {
        "id": "dVYENbRMGXYf"
      },
      "execution_count": 5,
      "outputs": []
    },
    {
      "cell_type": "code",
      "execution_count": 6,
      "metadata": {
        "id": "k-hHc4f4ehfg"
      },
      "outputs": [],
      "source": [
        "# Separate in training and validation:\n",
        "X_train, X_valid, y_train, y_valid = train_test_split(bal_X, bal_y,test_size=0.4,random_state=79)\n",
        "\n",
        "# Scale the data with the information of the training set:\n",
        "scaler = MinMaxScaler()\n",
        "scaler.fit(X_train)\n",
        "Xs_train = scaler.transform(X_train)\n",
        "Xs_valid = scaler.transform(X_valid)"
      ]
    },
    {
      "cell_type": "code",
      "source": [
        "Xs_train = torch.tensor(Xs_train, dtype=torch.float32)\n",
        "Xs_valid = torch.tensor(Xs_valid, dtype=torch.float32)\n",
        "\n",
        "y_train = torch.tensor(y_train, dtype=torch.float32).reshape(-1, 1)\n",
        "y_valid = torch.tensor(y_valid, dtype=torch.float32).reshape(-1, 1)"
      ],
      "metadata": {
        "id": "tIXFmNZ1l4mn"
      },
      "execution_count": 7,
      "outputs": []
    },
    {
      "cell_type": "code",
      "execution_count": 8,
      "metadata": {
        "id": "7nW94G6Geoca",
        "colab": {
          "base_uri": "https://localhost:8080/"
        },
        "outputId": "deab51df-b71c-4135-f5e9-8c0cad3b4b7b"
      },
      "outputs": [
        {
          "output_type": "stream",
          "name": "stdout",
          "text": [
            "Sequential(\n",
            "  (0): Linear(in_features=8, out_features=64, bias=True)\n",
            "  (1): GELU(approximate='none')\n",
            "  (2): Dropout(p=0.1, inplace=False)\n",
            "  (3): Linear(in_features=64, out_features=128, bias=True)\n",
            "  (4): Tanh()\n",
            "  (5): Linear(in_features=128, out_features=1, bias=True)\n",
            "  (6): Sigmoid()\n",
            ")\n"
          ]
        }
      ],
      "source": [
        "# Define the model\n",
        "user_model = nn.Sequential(\n",
        "    nn.Linear(8, 64),\n",
        "    nn.GELU(),\n",
        "    nn.Dropout(p=0.1),\n",
        "    nn.Linear(64, 128),\n",
        "    nn.Tanh(),\n",
        "    nn.Linear(128, 1),\n",
        "    nn.Sigmoid()\n",
        ")\n",
        "print(user_model)"
      ]
    },
    {
      "cell_type": "code",
      "source": [
        "# Specs for the training the model\n",
        "loss_fn   = nn.BCELoss()  # binary cross entropy\n",
        "optimizer = optim.Adam(user_model.parameters(), lr=0.0001)\n",
        "\n",
        "n_epochs = 200\n",
        "batch_size = 10"
      ],
      "metadata": {
        "id": "DNUuowR1mRno"
      },
      "execution_count": 9,
      "outputs": []
    },
    {
      "cell_type": "code",
      "execution_count": 10,
      "metadata": {
        "colab": {
          "base_uri": "https://localhost:8080/"
        },
        "id": "gCKTwiglevIL",
        "outputId": "a8582eff-9d74-4c8e-d082-9e6aca2693a9",
        "scrolled": true,
        "tags": []
      },
      "outputs": [
        {
          "output_type": "stream",
          "name": "stdout",
          "text": [
            "Finished epoch 0. Train loss: 0.6907790899276733. Valid loss: 0.6905149817466736\n",
            "Finished epoch 1. Train loss: 0.6906084418296814. Valid loss: 0.688625156879425\n",
            "Finished epoch 2. Train loss: 0.6869980096817017. Valid loss: 0.6832635998725891\n",
            "Finished epoch 3. Train loss: 0.6856452226638794. Valid loss: 0.6833007335662842\n",
            "Finished epoch 4. Train loss: 0.6828821301460266. Valid loss: 0.6816604733467102\n",
            "Finished epoch 5. Train loss: 0.6791130900382996. Valid loss: 0.6760507225990295\n",
            "Finished epoch 6. Train loss: 0.6765738725662231. Valid loss: 0.6748478412628174\n",
            "Finished epoch 7. Train loss: 0.6732136011123657. Valid loss: 0.6710624694824219\n",
            "Finished epoch 8. Train loss: 0.668359100818634. Valid loss: 0.665814220905304\n",
            "Finished epoch 9. Train loss: 0.666269063949585. Valid loss: 0.6624069809913635\n",
            "Finished epoch 10. Train loss: 0.6650881767272949. Valid loss: 0.6606817841529846\n",
            "Finished epoch 11. Train loss: 0.6609350442886353. Valid loss: 0.6555030941963196\n",
            "Finished epoch 12. Train loss: 0.6555656790733337. Valid loss: 0.6506102681159973\n",
            "Finished epoch 13. Train loss: 0.6484672427177429. Valid loss: 0.6471766233444214\n",
            "Finished epoch 14. Train loss: 0.6486257314682007. Valid loss: 0.6395052671432495\n",
            "Finished epoch 15. Train loss: 0.6394457817077637. Valid loss: 0.6363419890403748\n",
            "Finished epoch 16. Train loss: 0.6376243829727173. Valid loss: 0.6341512203216553\n",
            "Finished epoch 17. Train loss: 0.6314424276351929. Valid loss: 0.6274279356002808\n",
            "Finished epoch 18. Train loss: 0.625749409198761. Valid loss: 0.6233736872673035\n",
            "Finished epoch 19. Train loss: 0.6233661770820618. Valid loss: 0.6192734241485596\n",
            "Finished epoch 20. Train loss: 0.6182056665420532. Valid loss: 0.617742657661438\n",
            "Finished epoch 21. Train loss: 0.6151942610740662. Valid loss: 0.6105406880378723\n",
            "Finished epoch 22. Train loss: 0.6137258410453796. Valid loss: 0.6063421964645386\n",
            "Finished epoch 23. Train loss: 0.6079958081245422. Valid loss: 0.6057292819023132\n",
            "Finished epoch 24. Train loss: 0.5964233875274658. Valid loss: 0.5939915180206299\n",
            "Finished epoch 25. Train loss: 0.5980081558227539. Valid loss: 0.5890966057777405\n",
            "Finished epoch 26. Train loss: 0.5950756669044495. Valid loss: 0.5877695083618164\n",
            "Finished epoch 27. Train loss: 0.5893446803092957. Valid loss: 0.5876426100730896\n",
            "Finished epoch 28. Train loss: 0.5820758938789368. Valid loss: 0.5808966159820557\n",
            "Finished epoch 29. Train loss: 0.5831140279769897. Valid loss: 0.5743234157562256\n",
            "Finished epoch 30. Train loss: 0.5810660719871521. Valid loss: 0.5817160606384277\n",
            "Finished epoch 31. Train loss: 0.5779983401298523. Valid loss: 0.5805882215499878\n",
            "Finished epoch 32. Train loss: 0.5779668688774109. Valid loss: 0.5705734491348267\n",
            "Finished epoch 33. Train loss: 0.5731421113014221. Valid loss: 0.5731410980224609\n",
            "Finished epoch 34. Train loss: 0.5750445127487183. Valid loss: 0.5628425478935242\n",
            "Finished epoch 35. Train loss: 0.561504065990448. Valid loss: 0.5587422847747803\n",
            "Finished epoch 36. Train loss: 0.5668136477470398. Valid loss: 0.5600141882896423\n",
            "Finished epoch 37. Train loss: 0.5612892508506775. Valid loss: 0.5691141486167908\n",
            "Finished epoch 38. Train loss: 0.5674753189086914. Valid loss: 0.5638379454612732\n",
            "Finished epoch 39. Train loss: 0.5631229281425476. Valid loss: 0.5571255087852478\n",
            "Finished epoch 40. Train loss: 0.5605534911155701. Valid loss: 0.553779125213623\n",
            "Finished epoch 41. Train loss: 0.5561761260032654. Valid loss: 0.5546319484710693\n",
            "Finished epoch 42. Train loss: 0.550329864025116. Valid loss: 0.5520082116127014\n",
            "Finished epoch 43. Train loss: 0.5545074939727783. Valid loss: 0.5509068369865417\n",
            "Finished epoch 44. Train loss: 0.5551058053970337. Valid loss: 0.5486082434654236\n",
            "Finished epoch 45. Train loss: 0.5571649670600891. Valid loss: 0.54959636926651\n",
            "Finished epoch 46. Train loss: 0.5594896674156189. Valid loss: 0.5568498373031616\n",
            "Finished epoch 47. Train loss: 0.5467422604560852. Valid loss: 0.5434900522232056\n",
            "Finished epoch 48. Train loss: 0.5473321676254272. Valid loss: 0.532690703868866\n",
            "Finished epoch 49. Train loss: 0.5471537709236145. Valid loss: 0.5462429523468018\n",
            "Finished epoch 50. Train loss: 0.5388829112052917. Valid loss: 0.5428593754768372\n",
            "Finished epoch 51. Train loss: 0.5457699298858643. Valid loss: 0.5402380228042603\n",
            "Finished epoch 52. Train loss: 0.548054575920105. Valid loss: 0.5457450747489929\n",
            "Finished epoch 53. Train loss: 0.5393964052200317. Valid loss: 0.5307465195655823\n",
            "Finished epoch 54. Train loss: 0.533913791179657. Valid loss: 0.533276379108429\n",
            "Finished epoch 55. Train loss: 0.5419908761978149. Valid loss: 0.5439687967300415\n",
            "Finished epoch 56. Train loss: 0.5333626866340637. Valid loss: 0.5253028869628906\n",
            "Finished epoch 57. Train loss: 0.5356411337852478. Valid loss: 0.5358295440673828\n",
            "Finished epoch 58. Train loss: 0.5483847260475159. Valid loss: 0.5374573469161987\n",
            "Finished epoch 59. Train loss: 0.5397915244102478. Valid loss: 0.5476348996162415\n",
            "Finished epoch 60. Train loss: 0.5392792820930481. Valid loss: 0.541813313961029\n",
            "Finished epoch 61. Train loss: 0.537390947341919. Valid loss: 0.5335644483566284\n",
            "Finished epoch 62. Train loss: 0.5349636077880859. Valid loss: 0.5344380140304565\n",
            "Finished epoch 63. Train loss: 0.5310355424880981. Valid loss: 0.5244361758232117\n",
            "Finished epoch 64. Train loss: 0.5307045578956604. Valid loss: 0.5321413278579712\n",
            "Finished epoch 65. Train loss: 0.5380373001098633. Valid loss: 0.5217859745025635\n",
            "Finished epoch 66. Train loss: 0.5321583151817322. Valid loss: 0.5240142345428467\n",
            "Finished epoch 67. Train loss: 0.5324423909187317. Valid loss: 0.5342569947242737\n",
            "Finished epoch 68. Train loss: 0.5430623292922974. Valid loss: 0.5270890593528748\n",
            "Finished epoch 69. Train loss: 0.5250385999679565. Valid loss: 0.5299293398857117\n",
            "Finished epoch 70. Train loss: 0.5308387279510498. Valid loss: 0.5238510370254517\n",
            "Finished epoch 71. Train loss: 0.5305398106575012. Valid loss: 0.5298240184783936\n",
            "Finished epoch 72. Train loss: 0.5290471911430359. Valid loss: 0.5233257412910461\n",
            "Finished epoch 73. Train loss: 0.5311973690986633. Valid loss: 0.5371078252792358\n",
            "Finished epoch 74. Train loss: 0.5197790265083313. Valid loss: 0.5255824327468872\n",
            "Finished epoch 75. Train loss: 0.5309008359909058. Valid loss: 0.5225659608840942\n",
            "Finished epoch 76. Train loss: 0.5214964151382446. Valid loss: 0.5285713076591492\n",
            "Finished epoch 77. Train loss: 0.526035726070404. Valid loss: 0.5368950963020325\n",
            "Finished epoch 78. Train loss: 0.5268926620483398. Valid loss: 0.5459253191947937\n",
            "Finished epoch 79. Train loss: 0.5188127756118774. Valid loss: 0.512411892414093\n",
            "Finished epoch 80. Train loss: 0.5288631916046143. Valid loss: 0.5370548367500305\n",
            "Finished epoch 81. Train loss: 0.5229232907295227. Valid loss: 0.5182987451553345\n",
            "Finished epoch 82. Train loss: 0.5113948583602905. Valid loss: 0.5102848410606384\n",
            "Finished epoch 83. Train loss: 0.5266736745834351. Valid loss: 0.5363938212394714\n",
            "Finished epoch 84. Train loss: 0.5262560248374939. Valid loss: 0.521327018737793\n",
            "Finished epoch 85. Train loss: 0.5306269526481628. Valid loss: 0.5308132171630859\n",
            "Finished epoch 86. Train loss: 0.5191157460212708. Valid loss: 0.5135632157325745\n",
            "Finished epoch 87. Train loss: 0.5206190943717957. Valid loss: 0.5275028944015503\n",
            "Finished epoch 88. Train loss: 0.5197912454605103. Valid loss: 0.509047269821167\n",
            "Finished epoch 89. Train loss: 0.5209169387817383. Valid loss: 0.5192282199859619\n",
            "Finished epoch 90. Train loss: 0.5162326097488403. Valid loss: 0.5281682014465332\n",
            "Finished epoch 91. Train loss: 0.5107282400131226. Valid loss: 0.5202111601829529\n",
            "Finished epoch 92. Train loss: 0.5199306011199951. Valid loss: 0.5054085850715637\n",
            "Finished epoch 93. Train loss: 0.5203205347061157. Valid loss: 0.5377532839775085\n",
            "Finished epoch 94. Train loss: 0.5123254060745239. Valid loss: 0.525678813457489\n",
            "Finished epoch 95. Train loss: 0.5258306860923767. Valid loss: 0.5394654273986816\n",
            "Finished epoch 96. Train loss: 0.5063865184783936. Valid loss: 0.5295615792274475\n",
            "Finished epoch 97. Train loss: 0.522250235080719. Valid loss: 0.5203629732131958\n",
            "Finished epoch 98. Train loss: 0.5071062445640564. Valid loss: 0.5304909944534302\n",
            "Finished epoch 99. Train loss: 0.507070004940033. Valid loss: 0.5119129419326782\n",
            "Finished epoch 100. Train loss: 0.5228255987167358. Valid loss: 0.5265323519706726\n",
            "Finished epoch 101. Train loss: 0.5044143199920654. Valid loss: 0.522763192653656\n",
            "Finished epoch 102. Train loss: 0.5183001160621643. Valid loss: 0.5101555585861206\n",
            "Finished epoch 103. Train loss: 0.522454559803009. Valid loss: 0.5192990303039551\n",
            "Finished epoch 104. Train loss: 0.503219485282898. Valid loss: 0.5096920728683472\n",
            "Finished epoch 105. Train loss: 0.5228431224822998. Valid loss: 0.516867458820343\n",
            "Finished epoch 106. Train loss: 0.5281597971916199. Valid loss: 0.524916410446167\n",
            "Finished epoch 107. Train loss: 0.5260297060012817. Valid loss: 0.5219234228134155\n",
            "Finished epoch 108. Train loss: 0.5110792517662048. Valid loss: 0.5271649956703186\n",
            "Finished epoch 109. Train loss: 0.5124516487121582. Valid loss: 0.5169118642807007\n",
            "Finished epoch 110. Train loss: 0.5135086178779602. Valid loss: 0.5256497263908386\n",
            "Finished epoch 111. Train loss: 0.509560763835907. Valid loss: 0.5071626901626587\n",
            "Finished epoch 112. Train loss: 0.5129947066307068. Valid loss: 0.5181293487548828\n",
            "Finished epoch 113. Train loss: 0.5113798379898071. Valid loss: 0.5228265523910522\n",
            "Finished epoch 114. Train loss: 0.5221825838088989. Valid loss: 0.5313940644264221\n",
            "Finished epoch 115. Train loss: 0.5006152987480164. Valid loss: 0.5138880610466003\n",
            "Finished epoch 116. Train loss: 0.5056200623512268. Valid loss: 0.5138693451881409\n",
            "Finished epoch 117. Train loss: 0.5195184350013733. Valid loss: 0.5137706398963928\n",
            "Finished epoch 118. Train loss: 0.5056484341621399. Valid loss: 0.5331172347068787\n",
            "Finished epoch 119. Train loss: 0.5098737478256226. Valid loss: 0.49791884422302246\n",
            "Finished epoch 120. Train loss: 0.5210273861885071. Valid loss: 0.5355337262153625\n",
            "Finished epoch 121. Train loss: 0.5080475807189941. Valid loss: 0.5143914222717285\n",
            "Finished epoch 122. Train loss: 0.514306366443634. Valid loss: 0.5180652141571045\n",
            "Finished epoch 123. Train loss: 0.5044419169425964. Valid loss: 0.5212193727493286\n",
            "Finished epoch 124. Train loss: 0.5025148987770081. Valid loss: 0.5300366282463074\n",
            "Finished epoch 125. Train loss: 0.5246093273162842. Valid loss: 0.5111694931983948\n",
            "Finished epoch 126. Train loss: 0.5121637582778931. Valid loss: 0.5116311311721802\n",
            "Finished epoch 127. Train loss: 0.5171656608581543. Valid loss: 0.5376267433166504\n",
            "Finished epoch 128. Train loss: 0.512441873550415. Valid loss: 0.5281198620796204\n",
            "Finished epoch 129. Train loss: 0.5101492404937744. Valid loss: 0.5307751893997192\n",
            "Finished epoch 130. Train loss: 0.5111430287361145. Valid loss: 0.5239372253417969\n",
            "Finished epoch 131. Train loss: 0.5086574554443359. Valid loss: 0.5160934925079346\n",
            "Finished epoch 132. Train loss: 0.5162776708602905. Valid loss: 0.5163780450820923\n",
            "Finished epoch 133. Train loss: 0.5102779865264893. Valid loss: 0.5134875178337097\n",
            "Finished epoch 134. Train loss: 0.5325909852981567. Valid loss: 0.5215893983840942\n",
            "Finished epoch 135. Train loss: 0.5238551497459412. Valid loss: 0.5278400778770447\n",
            "Finished epoch 136. Train loss: 0.5187905430793762. Valid loss: 0.5222585797309875\n",
            "Finished epoch 137. Train loss: 0.5125601291656494. Valid loss: 0.5084905028343201\n",
            "Finished epoch 138. Train loss: 0.51902836561203. Valid loss: 0.509748101234436\n",
            "Finished epoch 139. Train loss: 0.5136879682540894. Valid loss: 0.5123950242996216\n",
            "Finished epoch 140. Train loss: 0.5193816423416138. Valid loss: 0.5170692801475525\n",
            "Finished epoch 141. Train loss: 0.5110325217247009. Valid loss: 0.5161123871803284\n",
            "Finished epoch 142. Train loss: 0.5143896341323853. Valid loss: 0.5314372777938843\n",
            "Finished epoch 143. Train loss: 0.5095470547676086. Valid loss: 0.5130844116210938\n",
            "Finished epoch 144. Train loss: 0.5095916390419006. Valid loss: 0.5264108777046204\n",
            "Finished epoch 145. Train loss: 0.5056068897247314. Valid loss: 0.5320281982421875\n",
            "Finished epoch 146. Train loss: 0.5178789496421814. Valid loss: 0.512809157371521\n",
            "Finished epoch 147. Train loss: 0.5142970681190491. Valid loss: 0.5105445981025696\n",
            "Finished epoch 148. Train loss: 0.4963584244251251. Valid loss: 0.5285515785217285\n",
            "Finished epoch 149. Train loss: 0.49890631437301636. Valid loss: 0.5167126059532166\n",
            "Finished epoch 150. Train loss: 0.5120064616203308. Valid loss: 0.5318017601966858\n",
            "Finished epoch 151. Train loss: 0.5081154704093933. Valid loss: 0.515924334526062\n",
            "Finished epoch 152. Train loss: 0.5016689896583557. Valid loss: 0.5231608748435974\n",
            "Finished epoch 153. Train loss: 0.4959273636341095. Valid loss: 0.5185772776603699\n",
            "Finished epoch 154. Train loss: 0.5039664506912231. Valid loss: 0.5247493386268616\n",
            "Finished epoch 155. Train loss: 0.5041002631187439. Valid loss: 0.49556055665016174\n",
            "Finished epoch 156. Train loss: 0.5030738115310669. Valid loss: 0.5148991346359253\n",
            "Finished epoch 157. Train loss: 0.5007205605506897. Valid loss: 0.5225677490234375\n",
            "Finished epoch 158. Train loss: 0.5020978450775146. Valid loss: 0.5170175433158875\n",
            "Finished epoch 159. Train loss: 0.5130867958068848. Valid loss: 0.5318368077278137\n",
            "Finished epoch 160. Train loss: 0.49225860834121704. Valid loss: 0.5152590870857239\n",
            "Finished epoch 161. Train loss: 0.5176751613616943. Valid loss: 0.5117163062095642\n",
            "Finished epoch 162. Train loss: 0.518951952457428. Valid loss: 0.5232762098312378\n",
            "Finished epoch 163. Train loss: 0.5176288485527039. Valid loss: 0.524105966091156\n",
            "Finished epoch 164. Train loss: 0.5098189115524292. Valid loss: 0.5226237177848816\n",
            "Finished epoch 165. Train loss: 0.4987896680831909. Valid loss: 0.5107852816581726\n",
            "Finished epoch 166. Train loss: 0.49964800477027893. Valid loss: 0.5199999213218689\n",
            "Finished epoch 167. Train loss: 0.4966481626033783. Valid loss: 0.5113175511360168\n",
            "Finished epoch 168. Train loss: 0.5147691369056702. Valid loss: 0.5160977244377136\n",
            "Finished epoch 169. Train loss: 0.5020467638969421. Valid loss: 0.5161798596382141\n",
            "Finished epoch 170. Train loss: 0.4998878240585327. Valid loss: 0.5114375352859497\n",
            "Finished epoch 171. Train loss: 0.5201979279518127. Valid loss: 0.5188973546028137\n",
            "Finished epoch 172. Train loss: 0.4985848665237427. Valid loss: 0.5189037919044495\n",
            "Finished epoch 173. Train loss: 0.5203608274459839. Valid loss: 0.523632287979126\n",
            "Finished epoch 174. Train loss: 0.5094248652458191. Valid loss: 0.5272234082221985\n",
            "Finished epoch 175. Train loss: 0.4952089190483093. Valid loss: 0.5139462351799011\n",
            "Finished epoch 176. Train loss: 0.5036452412605286. Valid loss: 0.5086068511009216\n",
            "Finished epoch 177. Train loss: 0.514248788356781. Valid loss: 0.510658860206604\n",
            "Finished epoch 178. Train loss: 0.5062536597251892. Valid loss: 0.5103064179420471\n",
            "Finished epoch 179. Train loss: 0.5031546950340271. Valid loss: 0.5185649394989014\n",
            "Finished epoch 180. Train loss: 0.5078377723693848. Valid loss: 0.5166202783584595\n",
            "Finished epoch 181. Train loss: 0.5131142139434814. Valid loss: 0.5200455188751221\n",
            "Finished epoch 182. Train loss: 0.5108723640441895. Valid loss: 0.522770881652832\n",
            "Finished epoch 183. Train loss: 0.5147599577903748. Valid loss: 0.5198664665222168\n",
            "Finished epoch 184. Train loss: 0.5011528730392456. Valid loss: 0.5319647789001465\n",
            "Finished epoch 185. Train loss: 0.5099490284919739. Valid loss: 0.5216763019561768\n",
            "Finished epoch 186. Train loss: 0.49999210238456726. Valid loss: 0.5210849046707153\n",
            "Finished epoch 187. Train loss: 0.5078490376472473. Valid loss: 0.5112940669059753\n",
            "Finished epoch 188. Train loss: 0.5050910115242004. Valid loss: 0.5082399845123291\n",
            "Finished epoch 189. Train loss: 0.5042783617973328. Valid loss: 0.5225287675857544\n",
            "Finished epoch 190. Train loss: 0.5081063508987427. Valid loss: 0.5162915587425232\n",
            "Finished epoch 191. Train loss: 0.5054193139076233. Valid loss: 0.5373409390449524\n",
            "Finished epoch 192. Train loss: 0.4997965097427368. Valid loss: 0.5318163633346558\n",
            "Finished epoch 193. Train loss: 0.506598949432373. Valid loss: 0.505446195602417\n",
            "Finished epoch 194. Train loss: 0.5123450756072998. Valid loss: 0.5134605169296265\n",
            "Finished epoch 195. Train loss: 0.5146375298500061. Valid loss: 0.5338103771209717\n",
            "Finished epoch 196. Train loss: 0.5063275694847107. Valid loss: 0.5154831409454346\n",
            "Finished epoch 197. Train loss: 0.5016412734985352. Valid loss: 0.5259345769882202\n",
            "Finished epoch 198. Train loss: 0.4996413588523865. Valid loss: 0.5193896293640137\n",
            "Finished epoch 199. Train loss: 0.49419695138931274. Valid loss: 0.5020328164100647\n"
          ]
        }
      ],
      "source": [
        "# Train:\n",
        "\n",
        "# Storage of losses:\n",
        "arr_losses_train = []\n",
        "arr_losses_valid = []\n",
        "\n",
        "# Loop:\n",
        "for epoch in range(n_epochs):\n",
        "    for i in range(0, len(X), batch_size):\n",
        "        # Training:\n",
        "        Xs_train_batch = Xs_train[i:i+batch_size]\n",
        "        y_train_batch_pred = user_model(Xs_train_batch)\n",
        "        y_train_batch = y_train[i:i+batch_size]\n",
        "        # Compare loss:\n",
        "        loss = loss_fn(y_train_batch_pred, y_train_batch)\n",
        "        # Get gradients:\n",
        "        optimizer.zero_grad()\n",
        "        # Loss and optimization:\n",
        "        loss.backward()\n",
        "        optimizer.step()\n",
        "    # Get loss for validation:\n",
        "    y_train_pred = user_model(Xs_train)\n",
        "    y_valid_pred = user_model(Xs_valid)\n",
        "    loss_train = loss_fn(y_train_pred, y_train)\n",
        "    loss_valid = loss_fn(y_valid_pred, y_valid)\n",
        "    # Store:\n",
        "    arr_losses_train.append(loss_train.item())\n",
        "    arr_losses_valid.append(loss_valid.item())\n",
        "    # Print epoch info:\n",
        "    print(f'Finished epoch {epoch}. Train loss: {loss_train}. Valid loss: {loss_valid}')"
      ]
    },
    {
      "cell_type": "code",
      "execution_count": 11,
      "metadata": {
        "colab": {
          "base_uri": "https://localhost:8080/",
          "height": 489
        },
        "id": "8JuHGHCmeyRJ",
        "outputId": "364ec223-d54b-4fe4-9af3-35eab7f9c435"
      },
      "outputs": [
        {
          "output_type": "execute_result",
          "data": {
            "text/plain": [
              "Text(0.5, 1.0, 'Evolution of the Error')"
            ]
          },
          "metadata": {},
          "execution_count": 11
        },
        {
          "output_type": "display_data",
          "data": {
            "text/plain": [
              "<Figure size 640x480 with 1 Axes>"
            ],
            "image/png": "[encoded data removed]"
          },
          "metadata": {}
        }
      ],
      "source": [
        "plt.plot(arr_losses_train)\n",
        "plt.plot(arr_losses_valid)\n",
        "plt.xlabel(\"Epochs\")\n",
        "plt.ylabel(\"Loss\")\n",
        "plt.title('Evolution of the Error')"
      ]
    },
    {
      "cell_type": "code",
      "source": [
        "# Compute accuracy (no_grad is optional)\n",
        "with torch.no_grad():\n",
        "    y_train_pred = user_model(Xs_train)\n",
        "    y_valid_pred = user_model(Xs_valid)\n",
        "accuracy_train = (y_train_pred.round() == y_train).float().mean()\n",
        "accuracy_valid = (y_valid_pred.round() == y_valid).float().mean()\n",
        "print(f\"Train Accuracy {accuracy_train}\")\n",
        "print(f\"Valid Accuracy {accuracy_valid}\")"
      ],
      "metadata": {
        "colab": {
          "base_uri": "https://localhost:8080/"
        },
        "id": "OBI_Q288piMI",
        "outputId": "b623cfe7-5028-492f-d8db-a45ae5056f33"
      },
      "execution_count": 12,
      "outputs": [
        {
          "output_type": "stream",
          "name": "stdout",
          "text": [
            "Train Accuracy 0.7352024912834167\n",
            "Valid Accuracy 0.734883725643158\n"
          ]
        }
      ]
    },
    {
      "cell_type": "code",
      "source": [],
      "metadata": {
        "id": "10-H5e65HttL"
      },
      "execution_count": 12,
      "outputs": []
    },
    {
      "cell_type": "code",
      "source": [
        "# Convert the predictions to labels:\n",
        "label_y_train_pred = np.round(y_train_pred)\n",
        "label_y_valid_pred = np.round(y_valid_pred)"
      ],
      "metadata": {
        "id": "24dNxnVfHOVt"
      },
      "execution_count": 13,
      "outputs": []
    },
    {
      "cell_type": "code",
      "source": [
        "cm_train = confusion_matrix(label_y_train_pred, y_train)\n",
        "cm_valid = confusion_matrix(label_y_valid_pred, y_valid)"
      ],
      "metadata": {
        "id": "oQH2VIsRHQZd"
      },
      "execution_count": 14,
      "outputs": []
    },
    {
      "cell_type": "code",
      "source": [
        "# For the Validation:\n",
        "sn.heatmap(cm_valid, annot=True)\n",
        "plt.title('Confusion Matrix for the Validation Set')\n",
        "plt.ylabel('Predicted Label')\n",
        "plt.xlabel('True Label')"
      ],
      "metadata": {
        "colab": {
          "base_uri": "https://localhost:8080/",
          "height": 489
        },
        "id": "95MCS7tuHSEd",
        "outputId": "8cd9b4ea-8e25-4cac-accb-9bdc99056eb0"
      },
      "execution_count": 15,
      "outputs": [
        {
          "output_type": "execute_result",
          "data": {
            "text/plain": [
              "Text(0.5, 23.52222222222222, 'True Label')"
            ]
          },
          "metadata": {},
          "execution_count": 15
        },
        {
          "output_type": "display_data",
          "data": {
            "text/plain": [
              "<Figure size 640x480 with 2 Axes>"
            ],
            "image/png": "[encoded data removed]"
          },
          "metadata": {}
        }
      ]
    },
    {
      "cell_type": "code",
      "source": [
        "# Export/Load Model in TorchScript Format\n",
        "# https://pytorch.org/tutorials/beginner/saving_loading_models.html#export-load-model-in-torchscript-format\n",
        "# Recommended format for Pytorch:"
      ],
      "metadata": {
        "id": "LkltQ_axpiOe"
      },
      "execution_count": 16,
      "outputs": []
    },
    {
      "cell_type": "code",
      "source": [
        "# If we save the model using TorchScript we cannot use the hooks to get intermediate outputs:\n",
        "# model_scripted = torch.jit.script(user_model) # Export to TorchScript\n",
        "# model_scripted.save('model_scripted.pt')\n",
        "\n",
        "# Have a message that says please do not save in TorchScript format"
      ],
      "metadata": {
        "id": "MbRHc51wpmUM"
      },
      "execution_count": 17,
      "outputs": []
    },
    {
      "cell_type": "code",
      "source": [
        "torch.save(user_model, 'user_model.pt')"
      ],
      "metadata": {
        "id": "z-ZKC0Suzs3C"
      },
      "execution_count": 18,
      "outputs": []
    },
    {
      "cell_type": "markdown",
      "source": [
        "# Save the Data to Simulate a Future Request from the User"
      ],
      "metadata": {
        "id": "NdqeYCoSZZaJ"
      }
    },
    {
      "cell_type": "code",
      "source": [
        "# We will simply use the Xs of the validation set for a future request:\n",
        "df = pd.DataFrame(Xs_valid, index=None, columns=None)\n",
        "df.to_csv('input_data_for_the_request.csv', index=True, columns=None)"
      ],
      "metadata": {
        "id": "YR_IeFwZH2su"
      },
      "execution_count": 19,
      "outputs": []
    },
    {
      "cell_type": "markdown",
      "source": [
        "# Read the model and the data and predict:"
      ],
      "metadata": {
        "id": "M4icv1t_q5QS"
      }
    },
    {
      "cell_type": "code",
      "source": [
        "# Read the model if TorchScript:\n",
        "# read_model = torch.jit.load('model_scripted.pt')\n",
        "# read_model.eval()"
      ],
      "metadata": {
        "id": "QqGUxE3Mq3kt"
      },
      "execution_count": 20,
      "outputs": []
    },
    {
      "cell_type": "code",
      "source": [
        "# Read the model:\n",
        "read_model = torch.load('user_model.pt')\n",
        "read_model.eval()"
      ],
      "metadata": {
        "colab": {
          "base_uri": "https://localhost:8080/"
        },
        "id": "iZmKkVkE0MfP",
        "outputId": "e70c4fd3-e6d9-4c33-cad7-23257a7e9369"
      },
      "execution_count": 21,
      "outputs": [
        {
          "output_type": "execute_result",
          "data": {
            "text/plain": [
              "Sequential(\n",
              "  (0): Linear(in_features=8, out_features=64, bias=True)\n",
              "  (1): GELU(approximate='none')\n",
              "  (2): Dropout(p=0.1, inplace=False)\n",
              "  (3): Linear(in_features=64, out_features=128, bias=True)\n",
              "  (4): Tanh()\n",
              "  (5): Linear(in_features=128, out_features=1, bias=True)\n",
              "  (6): Sigmoid()\n",
              ")"
            ]
          },
          "metadata": {},
          "execution_count": 21
        }
      ]
    },
    {
      "cell_type": "code",
      "source": [
        "# Read the data submitted:\n",
        "df_read = pd.read_csv('input_data_for_the_request.csv', index_col=0, header=0)\n",
        "df_read.head()"
      ],
      "metadata": {
        "id": "mSPYvAOcq_tA",
        "colab": {
          "base_uri": "https://localhost:8080/",
          "height": 204
        },
        "outputId": "21f52c1a-c3ef-49e1-ab8a-fd1571ba507c"
      },
      "execution_count": 22,
      "outputs": [
        {
          "output_type": "execute_result",
          "data": {
            "text/plain": [
              "          0         1         2         3         4         5         6  \\\n",
              "0  0.428571  0.522613  0.606557  0.285714  0.184397  0.503367  0.274979   \n",
              "1  0.071429  0.427136  0.540984  0.460317  0.000000  0.447811  0.116567   \n",
              "2  0.500000  0.753769  0.540984  0.666667  0.404255  0.584175  0.273271   \n",
              "3  0.357143  0.391960  0.393443  0.000000  0.000000  0.567340  0.245944   \n",
              "4  0.642857  0.653266  0.573770  0.000000  0.000000  0.575758  0.245090   \n",
              "\n",
              "          7  \n",
              "0  0.408163  \n",
              "1  0.204082  \n",
              "2  0.428571  \n",
              "3  0.081633  \n",
              "4  0.489796  "
            ],
            "text/html": [
              "\n",
              "  <div id=\"df-ed16efb0-a8fe-4b8b-88aa-99865fe2da05\" class=\"colab-df-container\">\n",
              "    <div>\n",
              "<style scoped>\n",
              "    .dataframe tbody tr th:only-of-type {\n",
              "        vertical-align: middle;\n",
              "    }\n",
              "\n",
              "    .dataframe tbody tr th {\n",
              "        vertical-align: top;\n",
              "    }\n",
              "\n",
              "    .dataframe thead th {\n",
              "        text-align: right;\n",
              "    }\n",
              "</style>\n",
              "<table border=\"1\" class=\"dataframe\">\n",
              "  <thead>\n",
              "    <tr style=\"text-align: right;\">\n",
              "      <th></th>\n",
              "      <th>0</th>\n",
              "      <th>1</th>\n",
              "      <th>2</th>\n",
              "      <th>3</th>\n",
              "      <th>4</th>\n",
              "      <th>5</th>\n",
              "      <th>6</th>\n",
              "      <th>7</th>\n",
              "    </tr>\n",
              "  </thead>\n",
              "  <tbody>\n",
              "    <tr>\n",
              "      <th>0</th>\n",
              "      <td>0.428571</td>\n",
              "      <td>0.522613</td>\n",
              "      <td>0.606557</td>\n",
              "      <td>0.285714</td>\n",
              "      <td>0.184397</td>\n",
              "      <td>0.503367</td>\n",
              "      <td>0.274979</td>\n",
              "      <td>0.408163</td>\n",
              "    </tr>\n",
              "    <tr>\n",
              "      <th>1</th>\n",
              "      <td>0.071429</td>\n",
              "      <td>0.427136</td>\n",
              "      <td>0.540984</td>\n",
              "      <td>0.460317</td>\n",
              "      <td>0.000000</td>\n",
              "      <td>0.447811</td>\n",
              "      <td>0.116567</td>\n",
              "      <td>0.204082</td>\n",
              "    </tr>\n",
              "    <tr>\n",
              "      <th>2</th>\n",
              "      <td>0.500000</td>\n",
              "      <td>0.753769</td>\n",
              "      <td>0.540984</td>\n",
              "      <td>0.666667</td>\n",
              "      <td>0.404255</td>\n",
              "      <td>0.584175</td>\n",
              "      <td>0.273271</td>\n",
              "      <td>0.428571</td>\n",
              "    </tr>\n",
              "    <tr>\n",
              "      <th>3</th>\n",
              "      <td>0.357143</td>\n",
              "      <td>0.391960</td>\n",
              "      <td>0.393443</td>\n",
              "      <td>0.000000</td>\n",
              "      <td>0.000000</td>\n",
              "      <td>0.567340</td>\n",
              "      <td>0.245944</td>\n",
              "      <td>0.081633</td>\n",
              "    </tr>\n",
              "    <tr>\n",
              "      <th>4</th>\n",
              "      <td>0.642857</td>\n",
              "      <td>0.653266</td>\n",
              "      <td>0.573770</td>\n",
              "      <td>0.000000</td>\n",
              "      <td>0.000000</td>\n",
              "      <td>0.575758</td>\n",
              "      <td>0.245090</td>\n",
              "      <td>0.489796</td>\n",
              "    </tr>\n",
              "  </tbody>\n",
              "</table>\n",
              "</div>\n",
              "    <div class=\"colab-df-buttons\">\n",
              "\n",
              "  <div class=\"colab-df-container\">\n",
              "    <button class=\"colab-df-convert\" onclick=\"convertToInteractive('df-ed16efb0-a8fe-4b8b-88aa-99865fe2da05')\"\n",
              "            title=\"Convert this dataframe to an interactive table.\"\n",
              "            style=\"display:none;\">\n",
              "\n",
              "  <svg xmlns=\"http://www.w3.org/2000/svg\" height=\"24px\" viewBox=\"0 -960 960 960\">\n",
              "    <path d=\"M120-120v-720h720v720H120Zm60-500h600v-160H180v160Zm220 220h160v-160H400v160Zm0 220h160v-160H400v160ZM180-400h160v-160H180v160Zm440 0h160v-160H620v160ZM180-180h160v-160H180v160Zm440 0h160v-160H620v160Z\"/>\n",
              "  </svg>\n",
              "    </button>\n",
              "\n",
              "  <style>\n",
              "    .colab-df-container {\n",
              "      display:flex;\n",
              "      gap: 12px;\n",
              "    }\n",
              "\n",
              "    .colab-df-convert {\n",
              "      background-color: #E8F0FE;\n",
              "      border: none;\n",
              "      border-radius: 50%;\n",
              "      cursor: pointer;\n",
              "      display: none;\n",
              "      fill: #1967D2;\n",
              "      height: 32px;\n",
              "      padding: 0 0 0 0;\n",
              "      width: 32px;\n",
              "    }\n",
              "\n",
              "    .colab-df-convert:hover {\n",
              "      background-color: #E2EBFA;\n",
              "      box-shadow: 0px 1px 2px rgba(60, 64, 67, 0.3), 0px 1px 3px 1px rgba(60, 64, 67, 0.15);\n",
              "      fill: #174EA6;\n",
              "    }\n",
              "\n",
              "    .colab-df-buttons div {\n",
              "      margin-bottom: 4px;\n",
              "    }\n",
              "\n",
              "    [theme=dark] .colab-df-convert {\n",
              "      background-color: #3B4455;\n",
              "      fill: #D2E3FC;\n",
              "    }\n",
              "\n",
              "    [theme=dark] .colab-df-convert:hover {\n",
              "      background-color: #434B5C;\n",
              "      box-shadow: 0px 1px 3px 1px rgba(0, 0, 0, 0.15);\n",
              "      filter: drop-shadow(0px 1px 2px rgba(0, 0, 0, 0.3));\n",
              "      fill: #FFFFFF;\n",
              "    }\n",
              "  </style>\n",
              "\n",
              "    <script>\n",
              "      const buttonEl =\n",
              "        document.querySelector('#df-ed16efb0-a8fe-4b8b-88aa-99865fe2da05 button.colab-df-convert');\n",
              "      buttonEl.style.display =\n",
              "        google.colab.kernel.accessAllowed ? 'block' : 'none';\n",
              "\n",
              "      async function convertToInteractive(key) {\n",
              "        const element = document.querySelector('#df-ed16efb0-a8fe-4b8b-88aa-99865fe2da05');\n",
              "        const dataTable =\n",
              "          await google.colab.kernel.invokeFunction('convertToInteractive',\n",
              "                                                    [key], {});\n",
              "        if (!dataTable) return;\n",
              "\n",
              "        const docLinkHtml = 'Like what you see? Visit the ' +\n",
              "          '<a target=\"_blank\" href=https://colab.research.google.com/notebooks/data_table.ipynb>data table notebook</a>'\n",
              "          + ' to learn more about interactive tables.';\n",
              "        element.innerHTML = '';\n",
              "        dataTable['output_type'] = 'display_data';\n",
              "        await google.colab.output.renderOutput(dataTable, element);\n",
              "        const docLink = document.createElement('div');\n",
              "        docLink.innerHTML = docLinkHtml;\n",
              "        element.appendChild(docLink);\n",
              "      }\n",
              "    </script>\n",
              "  </div>\n",
              "\n",
              "\n",
              "<div id=\"df-8f137e42-8731-4fdd-8b1c-10f6ec84a206\">\n",
              "  <button class=\"colab-df-quickchart\" onclick=\"quickchart('df-8f137e42-8731-4fdd-8b1c-10f6ec84a206')\"\n",
              "            title=\"Suggest charts\"\n",
              "            style=\"display:none;\">\n",
              "\n",
              "<svg xmlns=\"http://www.w3.org/2000/svg\" height=\"24px\"viewBox=\"0 0 24 24\"\n",
              "     width=\"24px\">\n",
              "    <g>\n",
              "        <path d=\"M19 3H5c-1.1 0-2 .9-2 2v14c0 1.1.9 2 2 2h14c1.1 0 2-.9 2-2V5c0-1.1-.9-2-2-2zM9 17H7v-7h2v7zm4 0h-2V7h2v10zm4 0h-2v-4h2v4z\"/>\n",
              "    </g>\n",
              "</svg>\n",
              "  </button>\n",
              "\n",
              "<style>\n",
              "  .colab-df-quickchart {\n",
              "      --bg-color: #E8F0FE;\n",
              "      --fill-color: #1967D2;\n",
              "      --hover-bg-color: #E2EBFA;\n",
              "      --hover-fill-color: #174EA6;\n",
              "      --disabled-fill-color: #AAA;\n",
              "      --disabled-bg-color: #DDD;\n",
              "  }\n",
              "\n",
              "  [theme=dark] .colab-df-quickchart {\n",
              "      --bg-color: #3B4455;\n",
              "      --fill-color: #D2E3FC;\n",
              "      --hover-bg-color: #434B5C;\n",
              "      --hover-fill-color: #FFFFFF;\n",
              "      --disabled-bg-color: #3B4455;\n",
              "      --disabled-fill-color: #666;\n",
              "  }\n",
              "\n",
              "  .colab-df-quickchart {\n",
              "    background-color: var(--bg-color);\n",
              "    border: none;\n",
              "    border-radius: 50%;\n",
              "    cursor: pointer;\n",
              "    display: none;\n",
              "    fill: var(--fill-color);\n",
              "    height: 32px;\n",
              "    padding: 0;\n",
              "    width: 32px;\n",
              "  }\n",
              "\n",
              "  .colab-df-quickchart:hover {\n",
              "    background-color: var(--hover-bg-color);\n",
              "    box-shadow: 0 1px 2px rgba(60, 64, 67, 0.3), 0 1px 3px 1px rgba(60, 64, 67, 0.15);\n",
              "    fill: var(--button-hover-fill-color);\n",
              "  }\n",
              "\n",
              "  .colab-df-quickchart-complete:disabled,\n",
              "  .colab-df-quickchart-complete:disabled:hover {\n",
              "    background-color: var(--disabled-bg-color);\n",
              "    fill: var(--disabled-fill-color);\n",
              "    box-shadow: none;\n",
              "  }\n",
              "\n",
              "  .colab-df-spinner {\n",
              "    border: 2px solid var(--fill-color);\n",
              "    border-color: transparent;\n",
              "    border-bottom-color: var(--fill-color);\n",
              "    animation:\n",
              "      spin 1s steps(1) infinite;\n",
              "  }\n",
              "\n",
              "  @keyframes spin {\n",
              "    0% {\n",
              "      border-color: transparent;\n",
              "      border-bottom-color: var(--fill-color);\n",
              "      border-left-color: var(--fill-color);\n",
              "    }\n",
              "    20% {\n",
              "      border-color: transparent;\n",
              "      border-left-color: var(--fill-color);\n",
              "      border-top-color: var(--fill-color);\n",
              "    }\n",
              "    30% {\n",
              "      border-color: transparent;\n",
              "      border-left-color: var(--fill-color);\n",
              "      border-top-color: var(--fill-color);\n",
              "      border-right-color: var(--fill-color);\n",
              "    }\n",
              "    40% {\n",
              "      border-color: transparent;\n",
              "      border-right-color: var(--fill-color);\n",
              "      border-top-color: var(--fill-color);\n",
              "    }\n",
              "    60% {\n",
              "      border-color: transparent;\n",
              "      border-right-color: var(--fill-color);\n",
              "    }\n",
              "    80% {\n",
              "      border-color: transparent;\n",
              "      border-right-color: var(--fill-color);\n",
              "      border-bottom-color: var(--fill-color);\n",
              "    }\n",
              "    90% {\n",
              "      border-color: transparent;\n",
              "      border-bottom-color: var(--fill-color);\n",
              "    }\n",
              "  }\n",
              "</style>\n",
              "\n",
              "  <script>\n",
              "    async function quickchart(key) {\n",
              "      const quickchartButtonEl =\n",
              "        document.querySelector('#' + key + ' button');\n",
              "      quickchartButtonEl.disabled = true;  // To prevent multiple clicks.\n",
              "      quickchartButtonEl.classList.add('colab-df-spinner');\n",
              "      try {\n",
              "        const charts = await google.colab.kernel.invokeFunction(\n",
              "            'suggestCharts', [key], {});\n",
              "      } catch (error) {\n",
              "        console.error('Error during call to suggestCharts:', error);\n",
              "      }\n",
              "      quickchartButtonEl.classList.remove('colab-df-spinner');\n",
              "      quickchartButtonEl.classList.add('colab-df-quickchart-complete');\n",
              "    }\n",
              "    (() => {\n",
              "      let quickchartButtonEl =\n",
              "        document.querySelector('#df-8f137e42-8731-4fdd-8b1c-10f6ec84a206 button');\n",
              "      quickchartButtonEl.style.display =\n",
              "        google.colab.kernel.accessAllowed ? 'block' : 'none';\n",
              "    })();\n",
              "  </script>\n",
              "</div>\n",
              "\n",
              "    </div>\n",
              "  </div>\n"
            ],
            "application/vnd.google.colaboratory.intrinsic+json": {
              "type": "dataframe",
              "variable_name": "df_read",
              "summary": "{\n  \"name\": \"df_read\",\n  \"rows\": 215,\n  \"fields\": [\n    {\n      \"column\": \"0\",\n      \"properties\": {\n        \"dtype\": \"number\",\n        \"std\": 0.2590141758427642,\n        \"min\": 0.0,\n        \"max\": 1.2142857,\n        \"num_unique_values\": 17,\n        \"samples\": [\n          0.42857143,\n          0.071428575,\n          0.5714286\n        ],\n        \"semantic_type\": \"\",\n        \"description\": \"\"\n      }\n    },\n    {\n      \"column\": \"1\",\n      \"properties\": {\n        \"dtype\": \"number\",\n        \"std\": 0.16102960950535952,\n        \"min\": 0.0,\n        \"max\": 0.98994976,\n        \"num_unique_values\": 98,\n        \"samples\": [\n          0.4874372,\n          0.79396987,\n          0.46733668\n        ],\n        \"semantic_type\": \"\",\n        \"description\": \"\"\n      }\n    },\n    {\n      \"column\": \"2\",\n      \"properties\": {\n        \"dtype\": \"number\",\n        \"std\": 0.16042806298274603,\n        \"min\": 0.0,\n        \"max\": 0.93442625,\n        \"num_unique_values\": 31,\n        \"samples\": [\n          0.24590164,\n          0.5081967,\n          0.73770493\n        ],\n        \"semantic_type\": \"\",\n        \"description\": \"\"\n      }\n    },\n    {\n      \"column\": \"3\",\n      \"properties\": {\n        \"dtype\": \"number\",\n        \"std\": 0.2658978956288723,\n        \"min\": 0.0,\n        \"max\": 1.5714285,\n        \"num_unique_values\": 43,\n        \"samples\": [\n          0.25396827,\n          0.50793654,\n          0.4920635\n        ],\n        \"semantic_type\": \"\",\n        \"description\": \"\"\n      }\n    },\n    {\n      \"column\": \"4\",\n      \"properties\": {\n        \"dtype\": \"number\",\n        \"std\": 0.1467877042702978,\n        \"min\": 0.0,\n        \"max\": 0.8037825,\n        \"num_unique_values\": 91,\n        \"samples\": [\n          0.093380615,\n          0.32033098,\n          0.2600473\n        ],\n        \"semantic_type\": \"\",\n        \"description\": \"\"\n      }\n    },\n    {\n      \"column\": \"5\",\n      \"properties\": {\n        \"dtype\": \"number\",\n        \"std\": 0.13460021028810132,\n        \"min\": 0.0,\n        \"max\": 1.1296296,\n        \"num_unique_values\": 135,\n        \"samples\": [\n          0.537037,\n          0.5252525,\n          0.56060606\n        ],\n        \"semantic_type\": \"\",\n        \"description\": \"\"\n      }\n    },\n    {\n      \"column\": \"6\",\n      \"properties\": {\n        \"dtype\": \"number\",\n        \"std\": 0.1406448866109577,\n        \"min\": 0.0029888984,\n        \"max\": 0.77497864,\n        \"num_unique_values\": 183,\n        \"samples\": [\n          0.119555935,\n          0.16438942,\n          0.057216056\n        ],\n        \"semantic_type\": \"\",\n        \"description\": \"\"\n      }\n    },\n    {\n      \"column\": \"7\",\n      \"properties\": {\n        \"dtype\": \"number\",\n        \"std\": 0.23320751970085402,\n        \"min\": 0.0,\n        \"max\": 0.97959185,\n        \"num_unique_values\": 44,\n        \"samples\": [\n          0.6122449,\n          0.3265306,\n          0.97959185\n        ],\n        \"semantic_type\": \"\",\n        \"description\": \"\"\n      }\n    }\n  ]\n}"
            }
          },
          "metadata": {},
          "execution_count": 22
        }
      ]
    },
    {
      "cell_type": "code",
      "source": [
        "# Get the input data:\n",
        "X_submitted = df_read.to_numpy()\n",
        "print(X_submitted.shape)"
      ],
      "metadata": {
        "colab": {
          "base_uri": "https://localhost:8080/"
        },
        "id": "_1l5RTDsq_0D",
        "outputId": "afcc7c30-d561-4d7f-fcae-75afc8100d2d"
      },
      "execution_count": 23,
      "outputs": [
        {
          "output_type": "stream",
          "name": "stdout",
          "text": [
            "(215, 8)\n"
          ]
        }
      ]
    },
    {
      "cell_type": "code",
      "source": [
        "# Use the read model:\n",
        "X_submitted = torch.tensor(X_submitted, dtype=torch.float32)\n",
        "# The use of the with torch.no_grad() is optional:\n",
        "with torch.no_grad():\n",
        "  y_submitted_pred = read_model(X_submitted)"
      ],
      "metadata": {
        "id": "e1yTjbhFrH3b"
      },
      "execution_count": 24,
      "outputs": []
    },
    {
      "cell_type": "code",
      "source": [],
      "metadata": {
        "id": "Bx2eQTNCDkNJ"
      },
      "execution_count": 24,
      "outputs": []
    }
  ],
  "metadata": {
    "colab": {
      "provenance": []
    },
    "kernelspec": {
      "display_name": "Python 3",
      "language": "python",
      "name": "python3"
    },
    "language_info": {
      "codemirror_mode": {
        "name": "ipython",
        "version": 3
      },
      "file_extension": ".py",
      "mimetype": "text/x-python",
      "name": "python",
      "nbconvert_exporter": "python",
      "pygments_lexer": "ipython3",
      "version": "3.6.13"
    }
  },
  "nbformat": 4,
  "nbformat_minor": 0
}